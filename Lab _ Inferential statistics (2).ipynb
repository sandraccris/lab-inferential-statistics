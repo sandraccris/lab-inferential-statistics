{
 "cells": [
  {
   "cell_type": "markdown",
   "id": "e5f157cf",
   "metadata": {},
   "source": [
    "It is assumed that the mean systolic blood pressure is μ = 120 mm Hg. In the Honolulu Heart Study, a sample of n = 100 people had an average systolic blood pressure of 130.1 mm Hg with a standard deviation of 21.21 mm Hg. Is the group significantly different (with respect to systolic blood pressure!) from the regular population?"
   ]
  },
  {
   "cell_type": "markdown",
   "id": "9ff8196e",
   "metadata": {},
   "source": [
    "#### 1.Set up the hypothesis test."
   ]
  },
  {
   "cell_type": "markdown",
   "id": "d273e91b",
   "metadata": {},
   "source": [
    "Null hypothesis: H0: μ = 120;\n",
    "    \n",
    "Alternate hypothesis:* Ha: μ ≠ 120; -> 1 TAIL."
   ]
  },
  {
   "cell_type": "markdown",
   "id": "2e440c70",
   "metadata": {},
   "source": [
    "#### 2.Write down all the steps followed for setting up the test."
   ]
  },
  {
   "cell_type": "markdown",
   "id": "0acffe1c",
   "metadata": {},
   "source": [
    "Sample n: 100 people\n",
    "    \n",
    "Population Mean systolic BP μ = 120 mm Hg\n",
    "\n",
    "Sample BP μ = 130 mm Hg\n",
    "\n",
    "Standard deviation std: 21.21 \n",
    "    \n",
    "Significance Level: α: 0.05\n",
    "\n",
    "Critical value: T table: 1.660   (dof 99)\n",
    "\n",
    "Test Statistic: Calculated below."
   ]
  },
  {
   "cell_type": "markdown",
   "id": "2ec8a0bd",
   "metadata": {},
   "source": [
    "#### 3. Calculate the test statistic by hand and also code it in Python. It should be 4.76190. We will take a look at how to make decisions based on this calculated value."
   ]
  },
  {
   "cell_type": "code",
   "execution_count": 5,
   "id": "5c320f38",
   "metadata": {},
   "outputs": [],
   "source": [
    "import math\n",
    "\n",
    "sample_mean = 130 \n",
    "pop_mean = 120\n",
    "pop_std = 21.21\n",
    "n = 100"
   ]
  },
  {
   "cell_type": "code",
   "execution_count": 7,
   "id": "985d9c86",
   "metadata": {},
   "outputs": [
    {
     "data": {
      "text/plain": [
       "4.714757190004715"
      ]
     },
     "execution_count": 7,
     "metadata": {},
     "output_type": "execute_result"
    }
   ],
   "source": [
    "# Python\n",
    "\n",
    "statistic = (sample_mean - pop_mean)/(pop_std/math.sqrt(n))\n",
    "statistic\n",
    "\n",
    "# Our Test Statistic Value is 4.714"
   ]
  },
  {
   "cell_type": "code",
   "execution_count": 11,
   "id": "397044d5",
   "metadata": {},
   "outputs": [
    {
     "data": {
      "text/plain": [
       "4.714757190004715"
      ]
     },
     "execution_count": 11,
     "metadata": {},
     "output_type": "execute_result"
    }
   ],
   "source": [
    "#  By hand\n",
    "import numpy as np\n",
    "\n",
    "\n",
    "#t = (X‾ - μ0) / (s / √n)\n",
    "\n",
    "t = (130-120)/ (21.21/np.sqrt(100))\n",
    "t"
   ]
  },
  {
   "cell_type": "markdown",
   "id": "5e8c0442",
   "metadata": {},
   "source": [
    "4.714 (statistic) > 1.660 (critical value) ---> so reject the null hypothesis, so there is enough evidence that Systolic BP of general population is diferent from 120 mmHg."
   ]
  }
 ],
 "metadata": {
  "kernelspec": {
   "display_name": "Python 3 (ipykernel)",
   "language": "python",
   "name": "python3"
  },
  "language_info": {
   "codemirror_mode": {
    "name": "ipython",
    "version": 3
   },
   "file_extension": ".py",
   "mimetype": "text/x-python",
   "name": "python",
   "nbconvert_exporter": "python",
   "pygments_lexer": "ipython3",
   "version": "3.9.13"
  }
 },
 "nbformat": 4,
 "nbformat_minor": 5
}
